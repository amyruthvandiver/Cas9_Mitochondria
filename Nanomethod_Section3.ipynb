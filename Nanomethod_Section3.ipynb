{
 "cells": [
  {
   "cell_type": "code",
   "execution_count": 2,
   "metadata": {},
   "outputs": [
    {
     "name": "stdout",
     "output_type": "stream",
     "text": [
      "/Users/amyvandiver/Box/Nanopore/Timp_data\n"
     ]
    }
   ],
   "source": [
    "cd Timp_data/"
   ]
  },
  {
   "cell_type": "code",
   "execution_count": 3,
   "metadata": {},
   "outputs": [],
   "source": [
    "!gunzip Muscle/guppy5/*.fq.gz"
   ]
  },
  {
   "cell_type": "code",
   "execution_count": 4,
   "metadata": {},
   "outputs": [
    {
     "name": "stdout",
     "output_type": "stream",
     "text": [
      "190226_UCLA_HD1.gup5.fq       210420_o3_run2_UCLA.gup5.fq\r\n",
      "190226_UCLA_HD2_old.gup5.fq   210506_o4_UCLA.gup5.fq\r\n",
      "190314_UCLA_old.gup5.fq       210506_y3_UCLA.gup5.fq\r\n",
      "190314_UCLA_young.gup5.fq     210528_UCLA_o4_run2.gup5.fq\r\n",
      "210326_old3_UCLA_run1.gup5.fq\r\n"
     ]
    }
   ],
   "source": [
    "!ls Muscle/guppy5/"
   ]
  },
  {
   "cell_type": "code",
   "execution_count": 12,
   "metadata": {},
   "outputs": [],
   "source": [
    "Names = ['190226_UCLA_HD1', '190314_UCLA_old', '190314_UCLA_young', '210326_old3_UCLA_run1','210420_o3_run2_UCLA','210506_o4_UCLA','210506_y3_UCLA','210528_UCLA_o4_run2']"
   ]
  },
  {
   "cell_type": "code",
   "execution_count": 14,
   "metadata": {
    "scrolled": true
   },
   "outputs": [
    {
     "name": "stdout",
     "output_type": "stream",
     "text": [
      "Muscle/guppy5/190226_UCLA_HD1.gup5.fq\n",
      "55585 reads\n",
      "Muscle/guppy5/190226_UCLA_HD2_old.gup5.fq\n",
      "49456 reads\n",
      "Muscle/guppy5/190314_UCLA_old.gup5.fq\n",
      "83326 reads\n",
      "Muscle/guppy5/190314_UCLA_young.gup5.fq\n",
      "155139 reads\n",
      "Muscle/guppy5/210326_old3_UCLA_run1.gup5.fq\n",
      "83722 reads\n",
      "Muscle/guppy5/210420_o3_run2_UCLA.gup5.fq\n",
      "58455 reads\n",
      "Muscle/guppy5/210506_o4_UCLA.gup5.fq\n",
      "5334 reads\n",
      "Muscle/guppy5/210506_y3_UCLA.gup5.fq\n",
      "16060 reads\n",
      "Muscle/guppy5/210528_UCLA_o4_run2.gup5.fq\n",
      "31461 reads\n"
     ]
    }
   ],
   "source": [
    "for x in Names:\n",
    "    fq= \"Muscle/guppy5/\" + x + \".gup5.fq\"\n",
    "    print(x)\n",
    "    !echo $(( $(wc -l < $fq) / 4 )) reads"
   ]
  },
  {
   "cell_type": "code",
   "execution_count": 15,
   "metadata": {},
   "outputs": [],
   "source": [
    "ref=\"chrM_rot.fa\""
   ]
  },
  {
   "cell_type": "code",
   "execution_count": 16,
   "metadata": {},
   "outputs": [],
   "source": [
    "def align(fastq, ref,outname):\n",
    "    #align\n",
    "    !minimap2 -ax map-ont {ref} -t 11 {fastq} --MD| samtools view -uF 4 | samtools sort -o {outname}\n",
    "    !samtools index {outname}\n"
   ]
  },
  {
   "cell_type": "code",
   "execution_count": 17,
   "metadata": {},
   "outputs": [],
   "source": [
    "mkdir \"Muscle/bam/\""
   ]
  },
  {
   "cell_type": "code",
   "execution_count": 18,
   "metadata": {},
   "outputs": [
    {
     "name": "stdout",
     "output_type": "stream",
     "text": [
      "190226_UCLA_HD1\n",
      "[M::mm_idx_gen::0.005*1.03] collected minimizers\n",
      "[M::mm_idx_gen::0.007*3.19] sorted minimizers\n",
      "[M::main::0.007*3.17] loaded/built the index for 1 target sequence(s)\n",
      "[M::mm_mapopt_update::0.007*3.12] mid_occ = 2\n",
      "[M::mm_idx_stat] kmer size: 15; skip: 10; is_hpc: 0; #seq: 1\n",
      "[M::mm_idx_stat::0.007*3.07] distinct minimizers: 3103 (100.00% are singletons); average occurrences: 1.000; average spacing: 5.340\n",
      "[M::worker_pipeline::10.095*7.91] mapped 55585 sequences\n",
      "[M::main] Version: 2.17-r941\n",
      "[M::main] CMD: minimap2 -ax map-ont -t 11 --MD chrM_rot.fa Muscle/guppy5/190226_UCLA_HD1.gup5.fq\n",
      "[M::main] Real time: 10.098 sec; CPU: 79.846 sec; Peak RSS: 0.751 GB\n",
      "190226_UCLA_HD2_old\n",
      "[M::mm_idx_gen::0.007*0.76] collected minimizers\n",
      "[M::mm_idx_gen::0.008*2.66] sorted minimizers\n",
      "[M::main::0.008*2.65] loaded/built the index for 1 target sequence(s)\n",
      "[M::mm_mapopt_update::0.009*2.62] mid_occ = 2\n",
      "[M::mm_idx_stat] kmer size: 15; skip: 10; is_hpc: 0; #seq: 1\n",
      "[M::mm_idx_stat::0.009*2.59] distinct minimizers: 3103 (100.00% are singletons); average occurrences: 1.000; average spacing: 5.340\n",
      "[M::worker_pipeline::33.711*5.31] mapped 49456 sequences\n",
      "[M::main] Version: 2.17-r941\n",
      "[M::main] CMD: minimap2 -ax map-ont -t 11 --MD chrM_rot.fa Muscle/guppy5/190226_UCLA_HD2_old.gup5.fq\n",
      "[M::main] Real time: 33.717 sec; CPU: 179.010 sec; Peak RSS: 1.318 GB\n",
      "[bam_sort_core] merging from 2 files...\n",
      "190314_UCLA_old\n",
      "[M::mm_idx_gen::0.004*1.22] collected minimizers\n",
      "[M::mm_idx_gen::0.006*4.04] sorted minimizers\n",
      "[M::main::0.006*4.02] loaded/built the index for 1 target sequence(s)\n",
      "[M::mm_mapopt_update::0.006*3.94] mid_occ = 2\n",
      "[M::mm_idx_stat] kmer size: 15; skip: 10; is_hpc: 0; #seq: 1\n",
      "[M::mm_idx_stat::0.006*3.85] distinct minimizers: 3103 (100.00% are singletons); average occurrences: 1.000; average spacing: 5.340\n",
      "[M::worker_pipeline::46.790*9.03] mapped 39016 sequences\n",
      "[M::worker_pipeline::62.304*7.35] mapped 38606 sequences\n",
      "[M::worker_pipeline::72.617*6.31] mapped 5704 sequences\n",
      "[M::main] Version: 2.17-r941\n",
      "[M::main] CMD: minimap2 -ax map-ont -t 11 --MD chrM_rot.fa Muscle/guppy5/190314_UCLA_old.gup5.fq\n",
      "[M::main] Real time: 72.619 sec; CPU: 458.207 sec; Peak RSS: 2.143 GB\n",
      "[bam_sort_core] merging from 4 files...\n",
      "190314_UCLA_young\n",
      "[M::mm_idx_gen::0.006*0.80] collected minimizers\n",
      "[M::mm_idx_gen::0.007*3.01] sorted minimizers\n",
      "[M::main::0.007*3.00] loaded/built the index for 1 target sequence(s)\n",
      "[M::mm_mapopt_update::0.008*2.96] mid_occ = 2\n",
      "[M::mm_idx_stat] kmer size: 15; skip: 10; is_hpc: 0; #seq: 1\n",
      "[M::mm_idx_stat::0.008*2.91] distinct minimizers: 3103 (100.00% are singletons); average occurrences: 1.000; average spacing: 5.340\n",
      "[M::worker_pipeline::48.038*9.10] mapped 43214 sequences\n",
      "[M::worker_pipeline::757.950*0.84] mapped 42906 sequences\n",
      "[M::worker_pipeline::786.837*0.95] mapped 44472 sequences\n",
      "[M::worker_pipeline::788.943*0.95] mapped 24547 sequences\n",
      "[M::main] Version: 2.17-r941\n",
      "[M::main] CMD: minimap2 -ax map-ont -t 11 --MD chrM_rot.fa Muscle/guppy5/190314_UCLA_young.gup5.fq\n",
      "[M::main] Real time: 788.947 sec; CPU: 750.863 sec; Peak RSS: 2.080 GB\n",
      "[bam_sort_core] merging from 5 files...\n",
      "210326_old3_UCLA_run1\n",
      "[M::mm_idx_gen::0.003*1.28] collected minimizers\n",
      "[M::mm_idx_gen::0.005*4.13] sorted minimizers\n",
      "[M::main::0.005*4.11] loaded/built the index for 1 target sequence(s)\n",
      "[M::mm_mapopt_update::0.006*4.02] mid_occ = 2\n",
      "[M::mm_idx_stat] kmer size: 15; skip: 10; is_hpc: 0; #seq: 1\n",
      "[M::mm_idx_stat::0.006*3.93] distinct minimizers: 3103 (100.00% are singletons); average occurrences: 1.000; average spacing: 5.340\n",
      "[M::worker_pipeline::39.920*5.50] mapped 78338 sequences\n",
      "[M::worker_pipeline::40.259*5.46] mapped 5384 sequences\n",
      "[M::main] Version: 2.17-r941\n",
      "[M::main] CMD: minimap2 -ax map-ont -t 11 --MD chrM_rot.fa Muscle/guppy5/210326_old3_UCLA_run1.gup5.fq\n",
      "[M::main] Real time: 40.264 sec; CPU: 219.669 sec; Peak RSS: 1.541 GB\n",
      "[bam_sort_core] merging from 2 files...\n",
      "210420_o3_run2_UCLA\n",
      "[M::mm_idx_gen::0.007*0.84] collected minimizers\n",
      "[M::mm_idx_gen::0.008*2.37] sorted minimizers\n",
      "[M::main::0.008*2.35] loaded/built the index for 1 target sequence(s)\n",
      "[M::mm_mapopt_update::0.009*2.31] mid_occ = 2\n",
      "[M::mm_idx_stat] kmer size: 15; skip: 10; is_hpc: 0; #seq: 1\n",
      "[M::mm_idx_stat::0.009*2.28] distinct minimizers: 3103 (100.00% are singletons); average occurrences: 1.000; average spacing: 5.340\n",
      "[M::worker_pipeline::30.784*4.81] mapped 58455 sequences\n",
      "[M::main] Version: 2.17-r941\n",
      "[M::main] CMD: minimap2 -ax map-ont -t 11 --MD chrM_rot.fa Muscle/guppy5/210420_o3_run2_UCLA.gup5.fq\n",
      "[M::main] Real time: 30.791 sec; CPU: 148.040 sec; Peak RSS: 1.165 GB\n",
      "[bam_sort_core] merging from 2 files...\n",
      "210506_o4_UCLA\n",
      "[M::mm_idx_gen::0.005*1.22] collected minimizers\n",
      "[M::mm_idx_gen::0.007*2.77] sorted minimizers\n",
      "[M::main::0.007*2.75] loaded/built the index for 1 target sequence(s)\n",
      "[M::mm_mapopt_update::0.007*2.68] mid_occ = 2\n",
      "[M::mm_idx_stat] kmer size: 15; skip: 10; is_hpc: 0; #seq: 1\n",
      "[M::mm_idx_stat::0.007*2.63] distinct minimizers: 3103 (100.00% are singletons); average occurrences: 1.000; average spacing: 5.340\n",
      "[M::worker_pipeline::1.961*7.23] mapped 5334 sequences\n",
      "[M::main] Version: 2.17-r941\n",
      "[M::main] CMD: minimap2 -ax map-ont -t 11 --MD chrM_rot.fa Muscle/guppy5/210506_o4_UCLA.gup5.fq\n",
      "[M::main] Real time: 1.966 sec; CPU: 14.173 sec; Peak RSS: 0.177 GB\n",
      "210506_y3_UCLA\n",
      "[M::mm_idx_gen::0.006*0.84] collected minimizers\n",
      "[M::mm_idx_gen::0.008*2.65] sorted minimizers\n",
      "[M::main::0.008*2.64] loaded/built the index for 1 target sequence(s)\n",
      "[M::mm_mapopt_update::0.008*2.60] mid_occ = 2\n",
      "[M::mm_idx_stat] kmer size: 15; skip: 10; is_hpc: 0; #seq: 1\n",
      "[M::mm_idx_stat::0.008*2.57] distinct minimizers: 3103 (100.00% are singletons); average occurrences: 1.000; average spacing: 5.340\n",
      "[M::worker_pipeline::5.770*7.05] mapped 16060 sequences\n",
      "[M::main] Version: 2.17-r941\n",
      "[M::main] CMD: minimap2 -ax map-ont -t 11 --MD chrM_rot.fa Muscle/guppy5/210506_y3_UCLA.gup5.fq\n",
      "[M::main] Real time: 5.772 sec; CPU: 40.699 sec; Peak RSS: 0.390 GB\n",
      "210528_UCLA_o4_run2\n",
      "[M::mm_idx_gen::0.018*0.29] collected minimizers\n",
      "[M::mm_idx_gen::0.020*1.16] sorted minimizers\n",
      "[M::main::0.020*1.16] loaded/built the index for 1 target sequence(s)\n",
      "[M::mm_mapopt_update::0.020*1.16] mid_occ = 2\n",
      "[M::mm_idx_stat] kmer size: 15; skip: 10; is_hpc: 0; #seq: 1\n",
      "[M::mm_idx_stat::0.020*1.15] distinct minimizers: 3103 (100.00% are singletons); average occurrences: 1.000; average spacing: 5.340\n",
      "[M::worker_pipeline::14.725*7.18] mapped 31461 sequences\n",
      "[M::main] Version: 2.17-r941\n",
      "[M::main] CMD: minimap2 -ax map-ont -t 11 --MD chrM_rot.fa Muscle/guppy5/210528_UCLA_o4_run2.gup5.fq\n",
      "[M::main] Real time: 14.729 sec; CPU: 105.751 sec; Peak RSS: 0.830 GB\n"
     ]
    }
   ],
   "source": [
    "for x in Names:\n",
    "    bamname=\"Muscle/bam/\" + x +\".rot.bam\"\n",
    "    print(x)\n",
    "    fq= \"Muscle/guppy5/\" + x + \".gup5.fq\"\n",
    "    align(fq, ref,bamname)"
   ]
  },
  {
   "cell_type": "code",
   "execution_count": 19,
   "metadata": {},
   "outputs": [
    {
     "name": "stdout",
     "output_type": "stream",
     "text": [
      "190226_UCLA_HD1.rot.bam           210326_old3_UCLA_run1.rot.bam.bai\r\n",
      "190226_UCLA_HD1.rot.bam.bai       210420_o3_run2_UCLA.rot.bam\r\n",
      "190226_UCLA_HD2_old.rot.bam       210420_o3_run2_UCLA.rot.bam.bai\r\n",
      "190226_UCLA_HD2_old.rot.bam.bai   210506_o4_UCLA.rot.bam\r\n",
      "190314_UCLA_old.rot.bam           210506_o4_UCLA.rot.bam.bai\r\n",
      "190314_UCLA_old.rot.bam.bai       210506_y3_UCLA.rot.bam\r\n",
      "190314_UCLA_young.rot.bam         210506_y3_UCLA.rot.bam.bai\r\n",
      "190314_UCLA_young.rot.bam.bai     210528_UCLA_o4_run2.rot.bam\r\n",
      "210326_old3_UCLA_run1.rot.bam     210528_UCLA_o4_run2.rot.bam.bai\r\n"
     ]
    }
   ],
   "source": [
    "!ls Muscle/bam/"
   ]
  },
  {
   "cell_type": "code",
   "execution_count": 66,
   "metadata": {},
   "outputs": [
    {
     "name": "stdout",
     "output_type": "stream",
     "text": [
      "[bam_merge] File 'Muscle/bam/old3_UCLA_merge.rot.bam' exists. Please apply '-f' to overwrite. Abort.\n",
      "[bam_merge] File 'Muscle/bam/old4_UCLA_merge.rot.bam' exists. Please apply '-f' to overwrite. Abort.\n"
     ]
    }
   ],
   "source": [
    "!samtools merge Muscle/bam/old3_UCLA_merge.rot.bam Muscle/bam/210326_old3_UCLA_run1.rot.bam Muscle/bam/210420_o3_run2_UCLA.rot.bam\n",
    "!samtools index Muscle/bam/old3_UCLA_merge.rot.bam \n",
    "\n",
    "!samtools merge Muscle/bam/old4_UCLA_merge.rot.bam Muscle/bam/210506_o4_UCLA.rot.bam Muscle/bam/210528_UCLA_o4_run2.rot.bam\n",
    "!samtools index Muscle/bam/old4_UCLA_merge.rot.bam"
   ]
  },
  {
   "cell_type": "code",
   "execution_count": 6,
   "metadata": {},
   "outputs": [],
   "source": [
    "Names = ['190226_UCLA_HD1', '190226_UCLA_HD2_old', '190314_UCLA_old', '190314_UCLA_young','210506_y3_UCLA','old3_UCLA_merge','old4_UCLA_merge']"
   ]
  },
  {
   "cell_type": "code",
   "execution_count": 67,
   "metadata": {},
   "outputs": [
    {
     "name": "stdout",
     "output_type": "stream",
     "text": [
      "Muscle/bam/190226_UCLA_HD1.rot.bam\n",
      "53596\n",
      "Muscle/bam/190226_UCLA_HD2_old.rot.bam\n",
      "48335\n",
      "Muscle/bam/190314_UCLA_old.rot.bam\n",
      "77778\n",
      "Muscle/bam/190314_UCLA_young.rot.bam\n",
      "144445\n",
      "Muscle/bam/210506_y3_UCLA.rot.bam\n",
      "14763\n",
      "Muscle/bam/old3_UCLA_merge.rot.bam\n",
      "127420\n",
      "Muscle/bam/old4_UCLA_merge.rot.bam\n",
      "30486\n"
     ]
    }
   ],
   "source": [
    "for x in Names:\n",
    "    bamname=\"Muscle/bam/\" + x +\".rot.bam\"\n",
    "    print(bamname)\n",
    "    !samtools view -F 260 -F 2048 {bamname} chrM_rot -c"
   ]
  },
  {
   "cell_type": "code",
   "execution_count": null,
   "metadata": {},
   "outputs": [],
   "source": []
  }
 ],
 "metadata": {
  "kernelspec": {
   "display_name": "Python 3",
   "language": "python",
   "name": "python3"
  },
  "language_info": {
   "codemirror_mode": {
    "name": "ipython",
    "version": 3
   },
   "file_extension": ".py",
   "mimetype": "text/x-python",
   "name": "python",
   "nbconvert_exporter": "python",
   "pygments_lexer": "ipython3",
   "version": "3.6.1"
  }
 },
 "nbformat": 4,
 "nbformat_minor": 4
}
