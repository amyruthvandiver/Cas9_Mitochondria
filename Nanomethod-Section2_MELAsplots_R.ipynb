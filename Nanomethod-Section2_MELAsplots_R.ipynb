{
 "cells": [
  {
   "cell_type": "code",
   "execution_count": 1,
   "metadata": {},
   "outputs": [],
   "source": [
    "setwd(\"/Users/amyvandiver/Box/Nanopore/Timp_data/HV\")"
   ]
  },
  {
   "cell_type": "code",
   "execution_count": 2,
   "metadata": {},
   "outputs": [
    {
     "name": "stderr",
     "output_type": "stream",
     "text": [
      "Warning message:\n",
      "“package ‘GenomicRanges’ was built under R version 4.0.3”\n",
      "Loading required package: stats4\n",
      "\n",
      "Loading required package: BiocGenerics\n",
      "\n",
      "Warning message:\n",
      "“package ‘BiocGenerics’ was built under R version 4.0.3”\n",
      "Loading required package: parallel\n",
      "\n",
      "\n",
      "Attaching package: ‘BiocGenerics’\n",
      "\n",
      "\n",
      "The following objects are masked from ‘package:parallel’:\n",
      "\n",
      "    clusterApply, clusterApplyLB, clusterCall, clusterEvalQ,\n",
      "    clusterExport, clusterMap, parApply, parCapply, parLapply,\n",
      "    parLapplyLB, parRapply, parSapply, parSapplyLB\n",
      "\n",
      "\n",
      "The following objects are masked from ‘package:stats’:\n",
      "\n",
      "    IQR, mad, sd, var, xtabs\n",
      "\n",
      "\n",
      "The following objects are masked from ‘package:base’:\n",
      "\n",
      "    anyDuplicated, append, as.data.frame, basename, cbind, colnames,\n",
      "    dirname, do.call, duplicated, eval, evalq, Filter, Find, get, grep,\n",
      "    grepl, intersect, is.unsorted, lapply, Map, mapply, match, mget,\n",
      "    order, paste, pmax, pmax.int, pmin, pmin.int, Position, rank,\n",
      "    rbind, Reduce, rownames, sapply, setdiff, sort, table, tapply,\n",
      "    union, unique, unsplit, which.max, which.min\n",
      "\n",
      "\n",
      "Loading required package: S4Vectors\n",
      "\n",
      "Warning message:\n",
      "“package ‘S4Vectors’ was built under R version 4.0.3”\n",
      "\n",
      "Attaching package: ‘S4Vectors’\n",
      "\n",
      "\n",
      "The following object is masked from ‘package:base’:\n",
      "\n",
      "    expand.grid\n",
      "\n",
      "\n",
      "Loading required package: IRanges\n",
      "\n",
      "Warning message:\n",
      "“package ‘IRanges’ was built under R version 4.0.3”\n",
      "Loading required package: GenomeInfoDb\n",
      "\n",
      "Warning message:\n",
      "“package ‘GenomeInfoDb’ was built under R version 4.0.3”\n",
      "Warning message:\n",
      "“package ‘GenomicAlignments’ was built under R version 4.0.3”\n",
      "Loading required package: SummarizedExperiment\n",
      "\n",
      "Warning message:\n",
      "“package ‘SummarizedExperiment’ was built under R version 4.0.3”\n",
      "Loading required package: MatrixGenerics\n",
      "\n",
      "Warning message:\n",
      "“package ‘MatrixGenerics’ was built under R version 4.0.3”\n",
      "Loading required package: matrixStats\n",
      "\n",
      "\n",
      "Attaching package: ‘MatrixGenerics’\n",
      "\n",
      "\n",
      "The following objects are masked from ‘package:matrixStats’:\n",
      "\n",
      "    colAlls, colAnyNAs, colAnys, colAvgsPerRowSet, colCollapse,\n",
      "    colCounts, colCummaxs, colCummins, colCumprods, colCumsums,\n",
      "    colDiffs, colIQRDiffs, colIQRs, colLogSumExps, colMadDiffs,\n",
      "    colMads, colMaxs, colMeans2, colMedians, colMins, colOrderStats,\n",
      "    colProds, colQuantiles, colRanges, colRanks, colSdDiffs, colSds,\n",
      "    colSums2, colTabulates, colVarDiffs, colVars, colWeightedMads,\n",
      "    colWeightedMeans, colWeightedMedians, colWeightedSds,\n",
      "    colWeightedVars, rowAlls, rowAnyNAs, rowAnys, rowAvgsPerColSet,\n",
      "    rowCollapse, rowCounts, rowCummaxs, rowCummins, rowCumprods,\n",
      "    rowCumsums, rowDiffs, rowIQRDiffs, rowIQRs, rowLogSumExps,\n",
      "    rowMadDiffs, rowMads, rowMaxs, rowMeans2, rowMedians, rowMins,\n",
      "    rowOrderStats, rowProds, rowQuantiles, rowRanges, rowRanks,\n",
      "    rowSdDiffs, rowSds, rowSums2, rowTabulates, rowVarDiffs, rowVars,\n",
      "    rowWeightedMads, rowWeightedMeans, rowWeightedMedians,\n",
      "    rowWeightedSds, rowWeightedVars\n",
      "\n",
      "\n",
      "Loading required package: Biobase\n",
      "\n",
      "Warning message:\n",
      "“package ‘Biobase’ was built under R version 4.0.3”\n",
      "Welcome to Bioconductor\n",
      "\n",
      "    Vignettes contain introductory material; view with\n",
      "    'browseVignettes()'. To cite Bioconductor, see\n",
      "    'citation(\"Biobase\")', and for packages 'citation(\"pkgname\")'.\n",
      "\n",
      "\n",
      "\n",
      "Attaching package: ‘Biobase’\n",
      "\n",
      "\n",
      "The following object is masked from ‘package:MatrixGenerics’:\n",
      "\n",
      "    rowMedians\n",
      "\n",
      "\n",
      "The following objects are masked from ‘package:matrixStats’:\n",
      "\n",
      "    anyMissing, rowMedians\n",
      "\n",
      "\n",
      "Loading required package: Biostrings\n",
      "\n",
      "Warning message:\n",
      "“package ‘Biostrings’ was built under R version 4.0.3”\n",
      "Loading required package: XVector\n",
      "\n",
      "Warning message:\n",
      "“package ‘XVector’ was built under R version 4.0.3”\n",
      "\n",
      "Attaching package: ‘Biostrings’\n",
      "\n",
      "\n",
      "The following object is masked from ‘package:base’:\n",
      "\n",
      "    strsplit\n",
      "\n",
      "\n",
      "Loading required package: Rsamtools\n",
      "\n",
      "Warning message:\n",
      "“package ‘ggbio’ was built under R version 4.0.3”\n",
      "Loading required package: ggplot2\n",
      "\n",
      "Registered S3 method overwritten by 'GGally':\n",
      "  method from   \n",
      "  +.gg   ggplot2\n",
      "\n",
      "Need specific help about ggbio? try mailing \n",
      " the maintainer or visit http://tengfei.github.com/ggbio/\n",
      "\n",
      "\n",
      "Attaching package: 'ggbio'\n",
      "\n",
      "\n",
      "The following objects are masked from 'package:ggplot2':\n",
      "\n",
      "    geom_bar, geom_rect, geom_segment, ggsave, stat_bin, stat_identity,\n",
      "    xlim\n",
      "\n",
      "\n",
      "Warning message:\n",
      "\"package 'gridExtra' was built under R version 4.0.3\"\n",
      "\n",
      "Attaching package: 'gridExtra'\n",
      "\n",
      "\n",
      "The following object is masked from 'package:Biobase':\n",
      "\n",
      "    combine\n",
      "\n",
      "\n",
      "The following object is masked from 'package:BiocGenerics':\n",
      "\n",
      "    combine\n",
      "\n",
      "\n"
     ]
    }
   ],
   "source": [
    "library(GenomicRanges)\n",
    "library(GenomicAlignments)\n",
    "library(ggbio)\n",
    "library(ggplot2)\n",
    "library(gridExtra)"
   ]
  },
  {
   "cell_type": "code",
   "execution_count": 11,
   "metadata": {},
   "outputs": [],
   "source": [
    "#Read in individual runs with genomic alignments \n",
    "\n",
    "flag0 <- scanBamFlag(isDuplicate=FALSE, isNotPassingQualityControls=FALSE)\n",
    "param0 <- ScanBamParam(flag=flag0, what=\"seq\")\n",
    "HV1=readGAlignments(\"210617_HV_mito_targseq_2.gup5_rot.bam\",use.names=TRUE,param=param0)\n",
    "    HV1=HV1[which(seqnames(HV1)==\"chrM_rot\")]\n",
    "\n",
    "HV2=readGAlignments(\"190226_HV_mitoenrich.gup5_rot.bam\",use.names=TRUE,param=param0)\n",
    "    HV2=HV2[which(seqnames(HV2)==\"chrM_rot\")]"
   ]
  },
  {
   "cell_type": "code",
   "execution_count": 12,
   "metadata": {},
   "outputs": [],
   "source": [
    "getmode <- function(v) {\n",
    "   uniqv <- unique(v)\n",
    "   uniqv[which.max(tabulate(match(v, uniqv)))]\n",
    "}"
   ]
  },
  {
   "cell_type": "code",
   "execution_count": 13,
   "metadata": {},
   "outputs": [
    {
     "data": {
      "text/html": [
       "1765"
      ],
      "text/latex": [
       "1765"
      ],
      "text/markdown": [
       "1765"
      ],
      "text/plain": [
       "[1] 1765"
      ]
     },
     "metadata": {},
     "output_type": "display_data"
    },
    {
     "data": {
      "text/plain": [
       "   Min. 1st Qu.  Median    Mean 3rd Qu.    Max. \n",
       "    215   10417   16263   13592   16411   97460 "
      ]
     },
     "metadata": {},
     "output_type": "display_data"
    },
    {
     "data": {
      "text/html": [
       "16416"
      ],
      "text/latex": [
       "16416"
      ],
      "text/markdown": [
       "16416"
      ],
      "text/plain": [
       "[1] 16416"
      ]
     },
     "metadata": {},
     "output_type": "display_data"
    },
    {
     "data": {
      "text/html": [
       "0.645892351274788"
      ],
      "text/latex": [
       "0.645892351274788"
      ],
      "text/markdown": [
       "0.645892351274788"
      ],
      "text/plain": [
       "[1] 0.6458924"
      ]
     },
     "metadata": {},
     "output_type": "display_data"
    },
    {
     "data": {
      "text/html": [
       "458"
      ],
      "text/latex": [
       "458"
      ],
      "text/markdown": [
       "458"
      ],
      "text/plain": [
       "[1] 458"
      ]
     },
     "metadata": {},
     "output_type": "display_data"
    },
    {
     "data": {
      "text/plain": [
       "   Min. 1st Qu.  Median    Mean 3rd Qu.    Max. \n",
       "    183    6071   15292   11659   16420   59895 "
      ]
     },
     "metadata": {},
     "output_type": "display_data"
    },
    {
     "data": {
      "text/html": [
       "16478"
      ],
      "text/latex": [
       "16478"
      ],
      "text/markdown": [
       "16478"
      ],
      "text/plain": [
       "[1] 16478"
      ]
     },
     "metadata": {},
     "output_type": "display_data"
    },
    {
     "data": {
      "text/html": [
       "0.510917030567686"
      ],
      "text/latex": [
       "0.510917030567686"
      ],
      "text/markdown": [
       "0.510917030567686"
      ],
      "text/plain": [
       "[1] 0.510917"
      ]
     },
     "metadata": {},
     "output_type": "display_data"
    }
   ],
   "source": [
    "length(HV1)\n",
    "summary(qwidth(HV1))\n",
    "getmode(qwidth(HV1))\n",
    "length(which(qwidth(HV1)>15000))/length(HV1)\n",
    "\n",
    "length(HV2)\n",
    "summary(qwidth(HV2))\n",
    "getmode(qwidth(HV2))\n",
    "length(which(qwidth(HV2)>15000))/length(HV2)"
   ]
  },
  {
   "cell_type": "code",
   "execution_count": 144,
   "metadata": {},
   "outputs": [],
   "source": [
    "#read in merged file with genomic alignments \n",
    "HV=readGAlignments(\"HV_all.bam\",use.names=TRUE,param=param0)\n",
    "\n",
    "#load genotype file from python, add start and ends to this from bam\n",
    "geno=read.csv(\"geno.csv\")\n",
    "HV=HV[which(names(HV)%in%geno$read)]\n",
    "\n",
    "geno$geno1=substr(as.character(geno$geno),1,1)\n",
    "geno$geno2=substr(as.character(geno$geno),2,2)\n",
    "\n",
    "idx=which(names(HV)%in%geno$read)\n",
    "idx=idx[-(length(idx)-1)]\n",
    "geno$start=start(HV)[idx]\n",
    "geno$end=end(HV)[idx]"
   ]
  },
  {
   "cell_type": "code",
   "execution_count": 262,
   "metadata": {},
   "outputs": [
    {
     "data": {
      "text/html": [
       "<style>\n",
       ".dl-inline {width: auto; margin:0; padding: 0}\n",
       ".dl-inline>dt, .dl-inline>dd {float: none; width: auto; display: inline-block}\n",
       ".dl-inline>dt::after {content: \":\\0020\"; padding-right: .5ex}\n",
       ".dl-inline>dt:not(:first-of-type) {padding-left: .5ex}\n",
       "</style><dl class=dl-inline><dt>-</dt><dd>34</dd><dt>A</dt><dd>108</dd><dt>C</dt><dd>5</dd><dt>G</dt><dd>1297</dd><dt>T</dt><dd>3</dd></dl>\n"
      ],
      "text/latex": [
       "\\begin{description*}\n",
       "\\item[-] 34\n",
       "\\item[A] 108\n",
       "\\item[C] 5\n",
       "\\item[G] 1297\n",
       "\\item[T] 3\n",
       "\\end{description*}\n"
      ],
      "text/markdown": [
       "-\n",
       ":   34A\n",
       ":   108C\n",
       ":   5G\n",
       ":   1297T\n",
       ":   3\n",
       "\n"
      ],
      "text/plain": [
       "   -    A    C    G    T \n",
       "  34  108    5 1297    3 "
      ]
     },
     "metadata": {},
     "output_type": "display_data"
    },
    {
     "data": {
      "text/html": [
       "<style>\n",
       ".dl-inline {width: auto; margin:0; padding: 0}\n",
       ".dl-inline>dt, .dl-inline>dd {float: none; width: auto; display: inline-block}\n",
       ".dl-inline>dt::after {content: \":\\0020\"; padding-right: .5ex}\n",
       ".dl-inline>dt:not(:first-of-type) {padding-left: .5ex}\n",
       "</style><dl class=dl-inline><dt>-</dt><dd>34</dd><dt>A</dt><dd>102</dd><dt>C</dt><dd>1</dd><dt>G</dt><dd>1309</dd><dt>T</dt><dd>1</dd></dl>\n"
      ],
      "text/latex": [
       "\\begin{description*}\n",
       "\\item[-] 34\n",
       "\\item[A] 102\n",
       "\\item[C] 1\n",
       "\\item[G] 1309\n",
       "\\item[T] 1\n",
       "\\end{description*}\n"
      ],
      "text/markdown": [
       "-\n",
       ":   34A\n",
       ":   102C\n",
       ":   1G\n",
       ":   1309T\n",
       ":   1\n",
       "\n"
      ],
      "text/plain": [
       "   -    A    C    G    T \n",
       "  34  102    1 1309    1 "
      ]
     },
     "metadata": {},
     "output_type": "display_data"
    },
    {
     "data": {
      "text/html": [
       "<style>\n",
       ".dl-inline {width: auto; margin:0; padding: 0}\n",
       ".dl-inline>dt, .dl-inline>dd {float: none; width: auto; display: inline-block}\n",
       ".dl-inline>dt::after {content: \":\\0020\"; padding-right: .5ex}\n",
       ".dl-inline>dt:not(:first-of-type) {padding-left: .5ex}\n",
       "</style><dl class=dl-inline><dt>-A</dt><dd>3</dd><dt>-G</dt><dd>31</dd><dt>A-</dt><dd>2</dd><dt>AA</dt><dd>19</dd><dt>AG</dt><dd>87</dd><dt>CG</dt><dd>5</dd><dt>G-</dt><dd>32</dd><dt>GA</dt><dd>80</dd><dt>GC</dt><dd>1</dd><dt>GG</dt><dd>1183</dd><dt>GT</dt><dd>1</dd><dt>TG</dt><dd>3</dd></dl>\n"
      ],
      "text/latex": [
       "\\begin{description*}\n",
       "\\item[-A] 3\n",
       "\\item[-G] 31\n",
       "\\item[A-] 2\n",
       "\\item[AA] 19\n",
       "\\item[AG] 87\n",
       "\\item[CG] 5\n",
       "\\item[G-] 32\n",
       "\\item[GA] 80\n",
       "\\item[GC] 1\n",
       "\\item[GG] 1183\n",
       "\\item[GT] 1\n",
       "\\item[TG] 3\n",
       "\\end{description*}\n"
      ],
      "text/markdown": [
       "-A\n",
       ":   3-G\n",
       ":   31A-\n",
       ":   2AA\n",
       ":   19AG\n",
       ":   87CG\n",
       ":   5G-\n",
       ":   32GA\n",
       ":   80GC\n",
       ":   1GG\n",
       ":   1183GT\n",
       ":   1TG\n",
       ":   3\n",
       "\n"
      ],
      "text/plain": [
       "  -A   -G   A-   AA   AG   CG   G-   GA   GC   GG   GT   TG \n",
       "   3   31    2   19   87    5   32   80    1 1183    1    3 "
      ]
     },
     "metadata": {},
     "output_type": "display_data"
    }
   ],
   "source": [
    "#check that matches \n",
    "summary(factor(geno$geno1))\n",
    "summary(factor(geno$geno2))\n",
    "summary(factor(geno$geno))"
   ]
  },
  {
   "cell_type": "code",
   "execution_count": 149,
   "metadata": {},
   "outputs": [],
   "source": [
    "#create subsample with 10% of mutants, 2.5% of wildtypes. Add y axis and colors for plotting\n",
    "\n",
    "AA=geno[which(geno$geno==\"AA\"),]\n",
    "AG=geno[which(geno$geno==\"AG\"),]\n",
    "GA=geno[which(geno$geno==\"GA\"),]\n",
    "GG=geno[which(geno$geno==\"GG\"),]\n",
    "\n",
    "nano=rbind(AG[sample(nrow(AG),round(0.1*nrow(AG),0)),],\n",
    "    AA[sample(nrow(AA),round(0.1*nrow(AA),0)),],\n",
    "      GA[sample(nrow(GA),round(0.1*nrow(GA),0)),],\n",
    "      GG[sample(nrow(GG),round(0.025*nrow(GG),0)),])\n",
    "nano$y=rev(seq(40,nrow(nano)*40,by=40))\n",
    "\n",
    "nano$col1=\"steelblue4\"\n",
    "nano$col1[which(nano$geno1==\"A\")]=\"red4\"\n",
    "nano$col2=\"steelblue4\"\n",
    "nano$col2[which(nano$geno2==\"A\")]=\"red4\""
   ]
  },
  {
   "cell_type": "code",
   "execution_count": 150,
   "metadata": {},
   "outputs": [],
   "source": [
    "#unrotate the genome so it matches up\n",
    "nano$len=nano$end-nano$start\n",
    "nano$start[which(nano$start > 15022)]=nano$start[which(nano$start > 15022)]-15022\n",
    "nano$start[which(nano$start < 15022)]=nano$start[which(nano$start < 15022)]+1547\n",
    "nano$end=nano$start+nano$len\n"
   ]
  },
  {
   "cell_type": "code",
   "execution_count": 170,
   "metadata": {},
   "outputs": [],
   "source": [
    "#read in illumina alignments and genotype files from pythong\n",
    "HV=readGAlignments(\"illumina/mito_S1.bam\",use.names=TRUE,param=param0)\n",
    "\n",
    "geno1=read.csv(\"illumina/geno_1642.csv\")\n",
    "geno2=read.csv(\"illumina/geno_13513.csv\")\n",
    "\n"
   ]
  },
  {
   "cell_type": "code",
   "execution_count": 232,
   "metadata": {},
   "outputs": [],
   "source": [
    "#add coordinates to first illumina genotype file\n",
    "HV1=HV[which(start(HV)<1642&end(HV)>1642)]\n",
    "HV1=HV1[which(!duplicated(names(HV1)))]\n",
    "geno1=geno1[which(geno1$read%in%names(HV1)),]\n",
    "idx=which(names(HV1)%in%geno1$read)\n",
    "\n",
    "geno1$start=start(HV1)[idx]\n",
    "geno1$end=end(HV1)[idx]"
   ]
  },
  {
   "cell_type": "code",
   "execution_count": 234,
   "metadata": {},
   "outputs": [],
   "source": [
    "#add coordinate to second illumina genotype file\n",
    "HV2=HV[which(start(HV)<13513&end(HV)>13513)]\n",
    "HV2=HV2[which(!duplicated(names(HV2)))]\n",
    "geno2=geno2[which(geno2$read%in%names(HV2)),]\n",
    "\n",
    "idx=which(names(HV2)%in%geno2$read)\n",
    "\n",
    "geno2$start=start(HV2)[idx]\n",
    "geno2$end=end(HV2)[idx]"
   ]
  },
  {
   "cell_type": "code",
   "execution_count": 248,
   "metadata": {},
   "outputs": [
    {
     "data": {
      "text/html": [
       "<style>\n",
       ".dl-inline {width: auto; margin:0; padding: 0}\n",
       ".dl-inline>dt, .dl-inline>dd {float: none; width: auto; display: inline-block}\n",
       ".dl-inline>dt::after {content: \":\\0020\"; padding-right: .5ex}\n",
       ".dl-inline>dt:not(:first-of-type) {padding-left: .5ex}\n",
       "</style><dl class=dl-inline><dt>A</dt><dd>13</dd><dt>G</dt><dd>199</dd></dl>\n"
      ],
      "text/latex": [
       "\\begin{description*}\n",
       "\\item[A] 13\n",
       "\\item[G] 199\n",
       "\\end{description*}\n"
      ],
      "text/markdown": [
       "A\n",
       ":   13G\n",
       ":   199\n",
       "\n"
      ],
      "text/plain": [
       "  A   G \n",
       " 13 199 "
      ]
     },
     "metadata": {},
     "output_type": "display_data"
    }
   ],
   "source": [
    "#select random sample of illumina reads covering each snp, add y coordinates for plotting\n",
    "set.seed(\"13579\")\n",
    "ymax=max(nano$y)+80\n",
    "summary(factor(geno1$geno))\n",
    "illum1=geno1[sample(nrow(geno1),nrow(nano)),]\n",
    "illum1$y=seq(ymax,ymax-40+(nrow(illum1)*40),by=40)\n",
    "illum2=geno2[sample(nrow(geno2),nrow(nano)),]\n",
    "illum2$y=seq(ymax,ymax-40+(nrow(illum2)*40),by=40)\n",
    "\n"
   ]
  },
  {
   "cell_type": "code",
   "execution_count": 249,
   "metadata": {},
   "outputs": [
    {
     "data": {
      "text/html": [
       "<style>\n",
       ".dl-inline {width: auto; margin:0; padding: 0}\n",
       ".dl-inline>dt, .dl-inline>dd {float: none; width: auto; display: inline-block}\n",
       ".dl-inline>dt::after {content: \":\\0020\"; padding-right: .5ex}\n",
       ".dl-inline>dt:not(:first-of-type) {padding-left: .5ex}\n",
       "</style><dl class=dl-inline><dt>A</dt><dd>4</dd><dt>G</dt><dd>45</dd></dl>\n"
      ],
      "text/latex": [
       "\\begin{description*}\n",
       "\\item[A] 4\n",
       "\\item[G] 45\n",
       "\\end{description*}\n"
      ],
      "text/markdown": [
       "A\n",
       ":   4G\n",
       ":   45\n",
       "\n"
      ],
      "text/plain": [
       " A  G \n",
       " 4 45 "
      ]
     },
     "metadata": {},
     "output_type": "display_data"
    },
    {
     "data": {
      "text/html": [
       "<style>\n",
       ".dl-inline {width: auto; margin:0; padding: 0}\n",
       ".dl-inline>dt, .dl-inline>dd {float: none; width: auto; display: inline-block}\n",
       ".dl-inline>dt::after {content: \":\\0020\"; padding-right: .5ex}\n",
       ".dl-inline>dt:not(:first-of-type) {padding-left: .5ex}\n",
       "</style><dl class=dl-inline><dt>A</dt><dd>5</dd><dt>G</dt><dd>44</dd></dl>\n"
      ],
      "text/latex": [
       "\\begin{description*}\n",
       "\\item[A] 5\n",
       "\\item[G] 44\n",
       "\\end{description*}\n"
      ],
      "text/markdown": [
       "A\n",
       ":   5G\n",
       ":   44\n",
       "\n"
      ],
      "text/plain": [
       " A  G \n",
       " 5 44 "
      ]
     },
     "metadata": {},
     "output_type": "display_data"
    }
   ],
   "source": [
    "#Check distribution of random reads \n",
    "summary(factor(illum1$geno))\n",
    "summary(factor(illum2$geno))"
   ]
  },
  {
   "cell_type": "code",
   "execution_count": 253,
   "metadata": {},
   "outputs": [],
   "source": [
    "#color illumina sample reads by genotype\n",
    "illum1$col=\"steelblue4\"\n",
    "illum1$col[which(illum1$geno==\"A\")]=\"red4\"\n",
    "\n",
    "illum1$col1=\"lightblue\"\n",
    "illum1$col1[which(illum1$geno==\"A\")]=\"rosybrown1\"\n",
    "\n",
    "illum2$col=\"steelblue4\"\n",
    "illum2$col[which(illum2$geno==\"A\")]=\"red4\"\n",
    "\n",
    "illum2$col1=\"lightblue\"\n",
    "illum2$col1[which(illum2$geno==\"A\")]=\"rosybrown1\""
   ]
  },
  {
   "cell_type": "code",
   "execution_count": 259,
   "metadata": {},
   "outputs": [
    {
     "data": {
      "text/html": [
       "<strong>pdf:</strong> 2"
      ],
      "text/latex": [
       "\\textbf{pdf:} 2"
      ],
      "text/markdown": [
       "**pdf:** 2"
      ],
      "text/plain": [
       "pdf \n",
       "  2 "
      ]
     },
     "metadata": {},
     "output_type": "display_data"
    }
   ],
   "source": [
    "#plot both random samples together \n",
    "\n",
    "pdf(\"Illum_Nano.pdf\",width=7,height=10)\n",
    "\n",
    "plot(c(0,18000),c(min(nano$y),max(illum1$y)),type=\"n\",ylab=\"\",xlab=\"Location on ChrM\",yaxt=\"n\")\n",
    "\n",
    "for (i in 1:(nrow(nano))){\n",
    "    rect(nano$start[i],nano$y[i],nano$end[i],nano$y[i]+15,col=\"lightblue\", border=\"NA\")\n",
    "    if(nano$geno1[i]==\"A\"){\n",
    "        rect(1547,nano$y[i],2050,nano$y[i]+15,col=\"rosybrown1\",border=\"NA\")\n",
    "        }\n",
    "    if(nano$geno2[i]==\"A\"){\n",
    "        rect(13200,nano$y[i],13700,nano$y[i]+15,col=\"rosybrown1\",border=\"NA\")\n",
    "        }\n",
    "    text(1642,nano$y[i]+5,labels=nano$geno1[i],col=nano$col1[i],cex=0.6)\n",
    "    text(13513,nano$y[i]+5,labels=nano$geno2[i],col=nano$col2[i],cex=0.6)\n",
    "\n",
    "}\n",
    "\n",
    "for (i in 1:(nrow(illum1))){\n",
    "    rect(illum1$start[i]-200,illum1$y[i],illum1$end[i]+200,illum1$y[i]+15,col=illum1$col1[i],lty=0)\n",
    "    text(1642,illum1$y[i]+7,labels=illum1$geno[i],col=illum1$col[i],cex=0.6)\n",
    "}\n",
    "\n",
    "for (i in 1:(nrow(illum2))){\n",
    "    rect(illum2$start[i]-200,illum2$y[i],illum2$end[i]+200,illum2$y[i]+15,col=illum2$col1[i],lty=0)\n",
    "    text(13531,illum2$y[i]+7,labels=illum2$geno[i],col=illum2$col[i],cex=0.6)\n",
    "}\n",
    "text(100, max(nano$y)-500, \"Nanopore Sequencing\",pos = 2, srt = 90)\n",
    "text(100, max(illum1$y), \"Illumina Sequencing\",pos = 2, srt = 90)\n",
    "abline(h=max(nano$y)+40,lty=3)\n",
    "\n",
    "dev.off()"
   ]
  },
  {
   "cell_type": "code",
   "execution_count": 95,
   "metadata": {},
   "outputs": [
    {
     "name": "stderr",
     "output_type": "stream",
     "text": [
      "Updating HTML index of packages in '.Library'\n",
      "\n",
      "Making 'packages.html' ...\n",
      " done\n",
      "\n"
     ]
    }
   ],
   "source": [
    "install.packages(\"UpSetR\")"
   ]
  },
  {
   "cell_type": "code",
   "execution_count": 96,
   "metadata": {},
   "outputs": [],
   "source": [
    "library(UpSetR)"
   ]
  },
  {
   "cell_type": "code",
   "execution_count": 104,
   "metadata": {},
   "outputs": [
    {
     "data": {
      "text/html": [
       "<strong>pdf:</strong> 2"
      ],
      "text/latex": [
       "\\textbf{pdf:} 2"
      ],
      "text/markdown": [
       "**pdf:** 2"
      ],
      "text/plain": [
       "pdf \n",
       "  2 "
      ]
     },
     "metadata": {},
     "output_type": "display_data"
    }
   ],
   "source": [
    "#make upset plot based on numbers of AG, GA and AA from python analysis (same as python plot in prior script, easier to manipulate image)\n",
    "input <- c(Snp1 = 87, Snp2 = 80, `Snp1&Snp2` = 19)\n",
    "\n",
    "\n",
    "# Plot\n",
    "pdf(\"Upset.pdf\",width=5,height=7)\n",
    "upset(fromExpression(input), \n",
    "#      nintersects = 40, \n",
    "#      nsets = 6, \n",
    "      order.by = \"freq\", \n",
    "      decreasing = T, \n",
    "      mb.ratio = c(0.6, 0.4),\n",
    "      number.angles = 0, \n",
    "      text.scale = 1.5, \n",
    "      point.size = 2.8, \n",
    "      line.size = 1\n",
    "      )\n",
    "\n",
    "dev.off()"
   ]
  }
 ],
 "metadata": {
  "kernelspec": {
   "display_name": "R",
   "language": "R",
   "name": "ir"
  },
  "language_info": {
   "codemirror_mode": "r",
   "file_extension": ".r",
   "mimetype": "text/x-r-source",
   "name": "R",
   "pygments_lexer": "r",
   "version": "4.0.2"
  }
 },
 "nbformat": 4,
 "nbformat_minor": 4
}
