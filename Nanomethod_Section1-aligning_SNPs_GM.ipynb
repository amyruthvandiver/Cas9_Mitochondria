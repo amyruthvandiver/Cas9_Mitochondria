{
 "cells": [
  {
   "cell_type": "code",
   "execution_count": 2,
   "metadata": {},
   "outputs": [
    {
     "name": "stdout",
     "output_type": "stream",
     "text": [
      "/Users/amyvandiver/Library/CloudStorage/Box-Box/Nanopore/Timp_data\n"
     ]
    }
   ],
   "source": [
    "cd /Users/amyvandiver/Library/CloudStorage/Box-Box/Nanopore/Timp_data/"
   ]
  },
  {
   "cell_type": "code",
   "execution_count": 2,
   "metadata": {},
   "outputs": [
    {
     "ename": "ImportError",
     "evalue": "Bio.Alphabet has been removed from Biopython. In many cases, the alphabet can simply be ignored and removed from scripts. In a few cases, you may need to specify the ``molecule_type`` as an annotation on a SeqRecord for your script to work correctly. Please see https://biopython.org/wiki/Alphabet for more information.",
     "output_type": "error",
     "traceback": [
      "\u001b[0;31m---------------------------------------------------------------------------\u001b[0m",
      "\u001b[0;31mImportError\u001b[0m                               Traceback (most recent call last)",
      "\u001b[0;32m<ipython-input-2-2794b72945b2>\u001b[0m in \u001b[0;36m<module>\u001b[0;34m()\u001b[0m\n\u001b[1;32m      2\u001b[0m \u001b[0;32mfrom\u001b[0m \u001b[0mBio\u001b[0m \u001b[0;32mimport\u001b[0m \u001b[0mSeqIO\u001b[0m\u001b[0;34m\u001b[0m\u001b[0m\n\u001b[1;32m      3\u001b[0m \u001b[0;32mfrom\u001b[0m \u001b[0mBio\u001b[0m\u001b[0;34m.\u001b[0m\u001b[0mSeq\u001b[0m \u001b[0;32mimport\u001b[0m \u001b[0mSeq\u001b[0m\u001b[0;34m\u001b[0m\u001b[0m\n\u001b[0;32m----> 4\u001b[0;31m \u001b[0;32mfrom\u001b[0m \u001b[0mBio\u001b[0m\u001b[0;34m.\u001b[0m\u001b[0mAlphabet\u001b[0m \u001b[0;32mimport\u001b[0m \u001b[0mgeneric_dna\u001b[0m\u001b[0;34m\u001b[0m\u001b[0m\n\u001b[0m",
      "\u001b[0;32m/Users/amyvandiver/opt/anaconda3/envs/nano/lib/python3.6/site-packages/Bio/Alphabet/__init__.py\u001b[0m in \u001b[0;36m<module>\u001b[0;34m()\u001b[0m\n\u001b[1;32m     19\u001b[0m \u001b[0;34m\u001b[0m\u001b[0m\n\u001b[1;32m     20\u001b[0m raise ImportError(\n\u001b[0;32m---> 21\u001b[0;31m     \u001b[0;34m\"Bio.Alphabet has been removed from Biopython. In many cases, the alphabet can simply be ignored and removed from scripts. In a few cases, you may need to specify the ``molecule_type`` as an annotation on a SeqRecord for your script to work correctly. Please see https://biopython.org/wiki/Alphabet for more information.\"\u001b[0m\u001b[0;34m\u001b[0m\u001b[0m\n\u001b[0m\u001b[1;32m     22\u001b[0m )\n",
      "\u001b[0;31mImportError\u001b[0m: Bio.Alphabet has been removed from Biopython. In many cases, the alphabet can simply be ignored and removed from scripts. In a few cases, you may need to specify the ``molecule_type`` as an annotation on a SeqRecord for your script to work correctly. Please see https://biopython.org/wiki/Alphabet for more information."
     ]
    }
   ],
   "source": [
    "#create rotated genome \n",
    "from Bio import SeqIO\n",
    "from Bio.Seq import Seq\n",
    "from Bio.Alphabet import generic_dna"
   ]
  },
  {
   "cell_type": "code",
   "execution_count": 5,
   "metadata": {},
   "outputs": [],
   "source": [
    "#index reference \n",
    "!samtools faidx /Users/amyvandiver/Box/Nanopore/TimpLab/Ref/GRCh38_latest_genomic.fna NC_012920.1>/Users/amyvandiver/Box/Nanopore/TimpLab/Ref/chrM.hg38.fa\n"
   ]
  },
  {
   "cell_type": "code",
   "execution_count": 11,
   "metadata": {},
   "outputs": [],
   "source": [
    "#load in ChrM, rename to work with later code\n",
    "hg38_chrm=SeqIO.read(\"/Users/amyvandiver/Box/Nanopore/TimpLab/Ref/chrM.hg38.fa\", \"fasta\")\n",
    "\n",
    "hg38_chrm.id=\"chrM\"\n",
    "hg38_chrm.name=\"chrM\"\n",
    "hg38_chrm.description=\"chrM\"\n",
    "\n",
    "outfile=open(\"chrM.hg38.fa\", \"w\")\n",
    "SeqIO.write(hg38_chrm, outfile, \"fasta\")\n",
    "outfile.close()"
   ]
  },
  {
   "cell_type": "code",
   "execution_count": 10,
   "metadata": {},
   "outputs": [],
   "source": [
    "#make rotated chrM reference by taking of first 1547 bases and appending to the end \n",
    "chrm_str=str(hg38_chrm.seq)\n",
    "rot_seq=chrm_str[1547:]+chrm_str[0:1547]\n",
    "\n",
    "obj_rot_seq=Seq(rot_seq)\n",
    "\n",
    "hg38_rot=hg38_chrm\n",
    "\n",
    "hg38_rot.seq=obj_rot_seq\n",
    "hg38_rot.id=\"chrM_rot\"\n",
    "hg38_rot.name=\"chrM_rot\"\n",
    "\n",
    "\n",
    "outfile=open(\"chrM_rot.fa\", \"w\")\n",
    "SeqIO.write(hg38_rot, outfile, \"fasta\")\n",
    "outfile.close()"
   ]
  },
  {
   "cell_type": "code",
   "execution_count": 6,
   "metadata": {},
   "outputs": [],
   "source": [
    "#Set paths for GM12878 cell nanopore data\n",
    "\n",
    "x= 'GM12878/190115_cas9enrich_mito1_multif5.gup5'\n",
    "fq = x + '.fq'\n",
    "ref_rot=\"chrM_rot.fa\"\n",
    "bamname=x+\".rotM.bam\"\n"
   ]
  },
  {
   "cell_type": "code",
   "execution_count": 12,
   "metadata": {},
   "outputs": [
    {
     "name": "stdout",
     "output_type": "stream",
     "text": [
      "193043 reads\r\n"
     ]
    }
   ],
   "source": [
    "#how many reads in run?\n",
    "!echo $(( $(wc -l < $fq) / 4 )) reads"
   ]
  },
  {
   "cell_type": "code",
   "execution_count": 13,
   "metadata": {},
   "outputs": [],
   "source": [
    "#define alingment function\n",
    "def align(fastq, ref,outname):\n",
    "    #align\n",
    "    !minimap2 -ax map-ont {ref} -t 11 {fastq} --MD| samtools view -uF 4 | samtools sort -o {outname}\n",
    "    !samtools index {outname}\n"
   ]
  },
  {
   "cell_type": "code",
   "execution_count": 14,
   "metadata": {},
   "outputs": [
    {
     "name": "stdout",
     "output_type": "stream",
     "text": [
      "GM12878/190115_cas9enrich_mito1_multif5.gup5.rotM.bam\n",
      "[M::mm_idx_gen::0.013*0.51] collected minimizers\n",
      "[M::mm_idx_gen::0.016*1.51] sorted minimizers\n",
      "[M::main::0.016*1.51] loaded/built the index for 1 target sequence(s)\n",
      "[M::mm_mapopt_update::0.016*1.50] mid_occ = 2\n",
      "[M::mm_idx_stat] kmer size: 15; skip: 10; is_hpc: 0; #seq: 1\n",
      "[M::mm_idx_stat::0.016*1.50] distinct minimizers: 3103 (100.00% are singletons); average occurrences: 1.000; average spacing: 5.340\n",
      "[M::worker_pipeline::52.500*7.30] mapped 43004 sequences\n",
      "[M::worker_pipeline::76.369*7.52] mapped 42735 sequences\n",
      "[M::worker_pipeline::99.919*7.64] mapped 44113 sequences\n",
      "[M::worker_pipeline::119.032*7.17] mapped 44378 sequences\n",
      "[M::worker_pipeline::120.746*7.08] mapped 18813 sequences\n",
      "[M::main] Version: 2.17-r941\n",
      "[M::main] CMD: minimap2 -ax map-ont -t 11 --MD chrM_rot.fa GM12878/190115_cas9enrich_mito1_multif5.gup5.fq\n",
      "[M::main] Real time: 120.750 sec; CPU: 854.631 sec; Peak RSS: 2.484 GB\n",
      "[bam_sort_core] merging from 5 files...\n"
     ]
    }
   ],
   "source": [
    "#align to rotated reference\n",
    "bamname=x+\".rotM.bam\"\n",
    "print(bamname)\n",
    "align(fq, ref_rot,bamname)"
   ]
  },
  {
   "cell_type": "code",
   "execution_count": 15,
   "metadata": {},
   "outputs": [
    {
     "name": "stdout",
     "output_type": "stream",
     "text": [
      "142373\n",
      "142373\n"
     ]
    }
   ],
   "source": [
    "#how many primary alignments?\n",
    "!samtools view -F 260 -F 2048 {bamname} chrM_rot -c\n",
    "!samtools view -F 260 -F 2048 {bamname} -c\n"
   ]
  },
  {
   "cell_type": "code",
   "execution_count": null,
   "metadata": {},
   "outputs": [],
   "source": [
    "#subset forward and reverse reads for plots \n",
    "!samtools view -F 16 -F 4 -h -b {bamrot} chrM_rot > forward_rot.bam\n",
    "!samtools view -F 16 -F 4 -h -b {bamname} chrM > forward.bam\n",
    "\n"
   ]
  },
  {
   "cell_type": "code",
   "execution_count": 7,
   "metadata": {},
   "outputs": [],
   "source": [
    "import pandas as pd\n"
   ]
  },
  {
   "cell_type": "code",
   "execution_count": 8,
   "metadata": {},
   "outputs": [
    {
     "name": "stdout",
     "output_type": "stream",
     "text": [
      "Number mito reads: 141928\n",
      "Mito reads greater than 9kb: 93916\n",
      "Mean mito read length: 12603.600558029424\n",
      "Mean mito read length: 16458.0\n",
      "Number mito reads: 142373\n",
      "Mito reads greater than 9kb: 94135\n",
      "Mean mito read length: 12628.419447507604\n",
      "Mean mito read length: 16458.0\n"
     ]
    }
   ],
   "source": [
    "#summarize chrM reads \n",
    "!samtools view -F 260 -F 2048 GM12878/190115_cas9enrich_mito1_multif5.gup5.rotM.bam chrM_rot| awk '{print length($10)}' >lengths.txt\n",
    "lengths=pd.read_csv('lengths.txt',sep='\\t',names=[\"length\"])\n",
    "print(\"Number mito reads: \" + str(len(lengths)))\n",
    "print(\"Mito reads greater than 15kb: \" + str(lengths.length[lengths.length >15000].count()))\n",
    "print(\"Mean mito read length: \" + str(lengths.length.mean()))\n",
    "print(\"Median mito read length: \" + str(lengths.length.median()))\n"
   ]
  },
  {
   "cell_type": "code",
   "execution_count": 3,
   "metadata": {},
   "outputs": [],
   "source": [
    "#Now call variants on nanopore data with bcftools, define function\n",
    "\n",
    "outdir=\"bcftools/\"\n",
    "def np_bcf(bam, ref, outdir, label, chrom, af=0.05):\n",
    "    chrM_reads=!samtools idxstats {bam} | grep {chrom} | cut -f3\n",
    "    cov_thresh=int(chrM_reads[0])/10\n",
    "    \n",
    "    bcfcall=outdir+label+\".bcfcall.vcf\"\n",
    "    \n",
    "    !bcftools mpileup -a \"AD,ADF,ADR\" -B -Q 0 -d 100000 --threads 8 -Ou -f {ref} -r {chrom} {bam} | \\\n",
    "        bcftools call --ploidy 1 -Ou -m -v -P 0 | bcftools filter -e 'INFO/DP[*] < {cov_thresh}' -o {bcfcall}\n",
    "    \n",
    "\n",
    "    \n",
    "    \n",
    "    "
   ]
  },
  {
   "cell_type": "code",
   "execution_count": 98,
   "metadata": {},
   "outputs": [
    {
     "name": "stdout",
     "output_type": "stream",
     "text": [
      "[mpileup] 1 samples in 1 input files\r\n"
     ]
    }
   ],
   "source": [
    "#call variants \n",
    "np_bcf(bamrot,ref_rot,outdir,\"190115_cas9enrich_chrM_rot\",\"chrM_rot\")\n"
   ]
  },
  {
   "cell_type": "code",
   "execution_count": null,
   "metadata": {},
   "outputs": [],
   "source": [
    "#now illumina data... first converted back to fastq to align to rotated reference to be confident in comparing variant calls \n",
    "\n",
    "!samtools bam2fq illumina/HG001_hs38d1_300x_chrMonly_sorted.bam > illumina/HG001_ChrMonly.bam2fq.fastq"
   ]
  },
  {
   "cell_type": "code",
   "execution_count": null,
   "metadata": {},
   "outputs": [],
   "source": [
    "#!bwa index {ref_rot}"
   ]
  },
  {
   "cell_type": "code",
   "execution_count": null,
   "metadata": {},
   "outputs": [],
   "source": [
    "#re-align to rotated reference \n",
    "!bwa mem {ref_rot} illumina/HG001_ChrMonly.bam2fq.fastq| samtools view -bS -uF 4 | samtools sort -o HG001_ChrM_rot.bam\n",
    "!samtools index HG001_ChrM_rot.bam"
   ]
  },
  {
   "cell_type": "code",
   "execution_count": null,
   "metadata": {},
   "outputs": [],
   "source": [
    "#call variants with freebayes\n",
    "!freebayes -0 -f {ref_rot} -X -F 0.05 -p 1 --pooled-continuous HG001_ChrM_rot.bam >fb/HG001_ChrM_rot.calls.vcf\n"
   ]
  },
  {
   "cell_type": "code",
   "execution_count": null,
   "metadata": {},
   "outputs": [],
   "source": [
    "#filter out strand specific with vcffilter \n",
    "!vcffilter -f \"SAF / AO > 0.1 & SAF / AO < 0.9 \" fb/HG001_ChrM_rot.calls.vcf >fb/HG001_ChrM_rot.calls.filt.vcf"
   ]
  },
  {
   "cell_type": "code",
   "execution_count": null,
   "metadata": {},
   "outputs": [],
   "source": [
    "from pysam import VariantFile"
   ]
  },
  {
   "cell_type": "code",
   "execution_count": 99,
   "metadata": {},
   "outputs": [],
   "source": [
    "#need to convert coordinates back to normal chrM reference for publishable output, first nanopore\n",
    "var=VariantFile(\"bcftools/190115_cas9enrich_chrM_rot.bcfcall.vcf\")\n",
    "\n",
    "newvar=VariantFile(\"bcftools/190115_chrM_unrot.vcf\", \"w\", header=var.header)\n",
    "\n",
    "for rec in var.fetch():\n",
    "    newpos=rec.pos+1547\n",
    "    if (newpos < 16570):\n",
    "        newrec=rec.copy()\n",
    "        newrec.pos=newpos\n",
    "        newvar.write(newrec)\n",
    "    elif (newpos>16569):\n",
    "        newrec=rec.copy()\n",
    "        newrec.pos=newpos-16569\n",
    "        newvar.write(newrec)\n",
    "        \n",
    "newvar.close()\n",
    "var.close()"
   ]
  },
  {
   "cell_type": "code",
   "execution_count": 72,
   "metadata": {},
   "outputs": [],
   "source": [
    "#convert illumina called variants back to non-rotated reference\n",
    "var=VariantFile(\"fb/HG001_ChrM_rot.calls.filt.vcf\")\n",
    "newvar=VariantFile(\"fb/HG001_ChrM_unrot.calls.filt.vcf\", \"w\", header=var.header)\n",
    "\n",
    "for rec in var.fetch():\n",
    "    newpos=rec.pos+1547\n",
    "    if (newpos < 16570):\n",
    "        newrec=rec.copy()\n",
    "        newrec.pos=newpos\n",
    "        newvar.write(newrec)\n",
    "    elif (newpos>16569):\n",
    "        newrec=rec.copy()\n",
    "        newrec.pos=newpos-16569\n",
    "        newvar.write(newrec)\n",
    "        \n",
    "newvar.close()\n",
    "var.close()"
   ]
  },
  {
   "cell_type": "code",
   "execution_count": null,
   "metadata": {},
   "outputs": [],
   "source": []
  }
 ],
 "metadata": {
  "kernelspec": {
   "display_name": "Python 3 (ipykernel)",
   "language": "python",
   "name": "python3"
  },
  "language_info": {
   "codemirror_mode": {
    "name": "ipython",
    "version": 3
   },
   "file_extension": ".py",
   "mimetype": "text/x-python",
   "name": "python",
   "nbconvert_exporter": "python",
   "pygments_lexer": "ipython3",
   "version": "3.7.12"
  }
 },
 "nbformat": 4,
 "nbformat_minor": 4
}
