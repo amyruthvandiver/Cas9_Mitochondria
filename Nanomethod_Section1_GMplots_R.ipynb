{
 "cells": [
  {
   "cell_type": "code",
   "execution_count": 1,
   "metadata": {},
   "outputs": [],
   "source": [
    "setwd(\"/Users/amyvandiver/Box/Nanopore/Timp_data\")"
   ]
  },
  {
   "cell_type": "code",
   "execution_count": 2,
   "metadata": {},
   "outputs": [
    {
     "name": "stderr",
     "output_type": "stream",
     "text": [
      "Warning message:\n",
      "“package ‘GenomicRanges’ was built under R version 4.0.3”\n",
      "Loading required package: stats4\n",
      "\n",
      "Loading required package: BiocGenerics\n",
      "\n",
      "Warning message:\n",
      "“package ‘BiocGenerics’ was built under R version 4.0.3”\n",
      "Loading required package: parallel\n",
      "\n",
      "\n",
      "Attaching package: ‘BiocGenerics’\n",
      "\n",
      "\n",
      "The following objects are masked from ‘package:parallel’:\n",
      "\n",
      "    clusterApply, clusterApplyLB, clusterCall, clusterEvalQ,\n",
      "    clusterExport, clusterMap, parApply, parCapply, parLapply,\n",
      "    parLapplyLB, parRapply, parSapply, parSapplyLB\n",
      "\n",
      "\n",
      "The following objects are masked from ‘package:stats’:\n",
      "\n",
      "    IQR, mad, sd, var, xtabs\n",
      "\n",
      "\n",
      "The following objects are masked from ‘package:base’:\n",
      "\n",
      "    anyDuplicated, append, as.data.frame, basename, cbind, colnames,\n",
      "    dirname, do.call, duplicated, eval, evalq, Filter, Find, get, grep,\n",
      "    grepl, intersect, is.unsorted, lapply, Map, mapply, match, mget,\n",
      "    order, paste, pmax, pmax.int, pmin, pmin.int, Position, rank,\n",
      "    rbind, Reduce, rownames, sapply, setdiff, sort, table, tapply,\n",
      "    union, unique, unsplit, which.max, which.min\n",
      "\n",
      "\n",
      "Loading required package: S4Vectors\n",
      "\n",
      "Warning message:\n",
      "“package ‘S4Vectors’ was built under R version 4.0.3”\n",
      "\n",
      "Attaching package: ‘S4Vectors’\n",
      "\n",
      "\n",
      "The following object is masked from ‘package:base’:\n",
      "\n",
      "    expand.grid\n",
      "\n",
      "\n",
      "Loading required package: IRanges\n",
      "\n",
      "Warning message:\n",
      "“package ‘IRanges’ was built under R version 4.0.3”\n",
      "Loading required package: GenomeInfoDb\n",
      "\n",
      "Warning message:\n",
      "“package ‘GenomeInfoDb’ was built under R version 4.0.3”\n",
      "Warning message:\n",
      "“package ‘GenomicAlignments’ was built under R version 4.0.3”\n",
      "Loading required package: SummarizedExperiment\n",
      "\n",
      "Warning message:\n",
      "“package ‘SummarizedExperiment’ was built under R version 4.0.3”\n",
      "Loading required package: MatrixGenerics\n",
      "\n",
      "Warning message:\n",
      "“package ‘MatrixGenerics’ was built under R version 4.0.3”\n",
      "Loading required package: matrixStats\n",
      "\n",
      "\n",
      "Attaching package: ‘MatrixGenerics’\n",
      "\n",
      "\n",
      "The following objects are masked from ‘package:matrixStats’:\n",
      "\n",
      "    colAlls, colAnyNAs, colAnys, colAvgsPerRowSet, colCollapse,\n",
      "    colCounts, colCummaxs, colCummins, colCumprods, colCumsums,\n",
      "    colDiffs, colIQRDiffs, colIQRs, colLogSumExps, colMadDiffs,\n",
      "    colMads, colMaxs, colMeans2, colMedians, colMins, colOrderStats,\n",
      "    colProds, colQuantiles, colRanges, colRanks, colSdDiffs, colSds,\n",
      "    colSums2, colTabulates, colVarDiffs, colVars, colWeightedMads,\n",
      "    colWeightedMeans, colWeightedMedians, colWeightedSds,\n",
      "    colWeightedVars, rowAlls, rowAnyNAs, rowAnys, rowAvgsPerColSet,\n",
      "    rowCollapse, rowCounts, rowCummaxs, rowCummins, rowCumprods,\n",
      "    rowCumsums, rowDiffs, rowIQRDiffs, rowIQRs, rowLogSumExps,\n",
      "    rowMadDiffs, rowMads, rowMaxs, rowMeans2, rowMedians, rowMins,\n",
      "    rowOrderStats, rowProds, rowQuantiles, rowRanges, rowRanks,\n",
      "    rowSdDiffs, rowSds, rowSums2, rowTabulates, rowVarDiffs, rowVars,\n",
      "    rowWeightedMads, rowWeightedMeans, rowWeightedMedians,\n",
      "    rowWeightedSds, rowWeightedVars\n",
      "\n",
      "\n",
      "Loading required package: Biobase\n",
      "\n",
      "Warning message:\n",
      "“package ‘Biobase’ was built under R version 4.0.3”\n",
      "Welcome to Bioconductor\n",
      "\n",
      "    Vignettes contain introductory material; view with\n",
      "    'browseVignettes()'. To cite Bioconductor, see\n",
      "    'citation(\"Biobase\")', and for packages 'citation(\"pkgname\")'.\n",
      "\n",
      "\n",
      "\n",
      "Attaching package: ‘Biobase’\n",
      "\n",
      "\n",
      "The following object is masked from ‘package:MatrixGenerics’:\n",
      "\n",
      "    rowMedians\n",
      "\n",
      "\n",
      "The following objects are masked from ‘package:matrixStats’:\n",
      "\n",
      "    anyMissing, rowMedians\n",
      "\n",
      "\n",
      "Loading required package: Biostrings\n",
      "\n",
      "Warning message:\n",
      "“package ‘Biostrings’ was built under R version 4.0.3”\n",
      "Loading required package: XVector\n",
      "\n",
      "Warning message:\n",
      "“package ‘XVector’ was built under R version 4.0.3”\n",
      "\n",
      "Attaching package: ‘Biostrings’\n",
      "\n",
      "\n",
      "The following object is masked from ‘package:base’:\n",
      "\n",
      "    strsplit\n",
      "\n",
      "\n",
      "Loading required package: Rsamtools\n",
      "\n",
      "Warning message:\n",
      "“package ‘ggbio’ was built under R version 4.0.3”\n",
      "Loading required package: ggplot2\n",
      "\n",
      "Registered S3 method overwritten by 'GGally':\n",
      "  method from   \n",
      "  +.gg   ggplot2\n",
      "\n",
      "Need specific help about ggbio? try mailing \n",
      " the maintainer or visit http://tengfei.github.com/ggbio/\n",
      "\n",
      "\n",
      "Attaching package: 'ggbio'\n",
      "\n",
      "\n",
      "The following objects are masked from 'package:ggplot2':\n",
      "\n",
      "    geom_bar, geom_rect, geom_segment, ggsave, stat_bin, stat_identity,\n",
      "    xlim\n",
      "\n",
      "\n",
      "Warning message:\n",
      "\"package 'gridExtra' was built under R version 4.0.3\"\n",
      "\n",
      "Attaching package: 'gridExtra'\n",
      "\n",
      "\n",
      "The following object is masked from 'package:Biobase':\n",
      "\n",
      "    combine\n",
      "\n",
      "\n",
      "The following object is masked from 'package:BiocGenerics':\n",
      "\n",
      "    combine\n",
      "\n",
      "\n"
     ]
    }
   ],
   "source": [
    "library(GenomicRanges)\n",
    "library(GenomicAlignments)\n",
    "library(ggbio)\n",
    "library(ggplot2)\n",
    "library(gridExtra)"
   ]
  },
  {
   "cell_type": "code",
   "execution_count": 3,
   "metadata": {},
   "outputs": [],
   "source": [
    "#Load mito annotation file, put into GRanges to prep for plotting\n",
    "\n",
    "locs=read.csv(\"/Users/amyvandiver/Box/Nanopore/mitogenes.csv\")\n",
    "gr= GRanges(seqnames=rep(\"M\",nrow(locs)), IRanges(start=locs$Start,end=locs$End),strand=rep('*',nrow(locs)),name=locs$Name,type=locs$Type,complex=locs$Complex)\n",
    "gr$names1=gr$name\n",
    "gr$names1[which(gr$type==\"tRNA\")]=NA\n",
    "gr$names1[which(gr$type==\"D-Loop\")]=NA\n",
    "gr$names1[which(gr$name==\"ATP8\")]=NA\n",
    "gr$names1[which(gr$name==\"ATP6\")]=\"ATP8-ATP6\"\n",
    "\n",
    "seqlengths(gr)<-(\"M\"=max(end(gr)))\n"
   ]
  },
  {
   "cell_type": "code",
   "execution_count": 4,
   "metadata": {},
   "outputs": [],
   "source": [
    "#load nanopore alignments\n",
    "all<- readGAlignments(\"GM12878/190115_cas9enrich_mito1_multif5.gup5.rotM.bam\")\n"
   ]
  },
  {
   "cell_type": "code",
   "execution_count": 5,
   "metadata": {},
   "outputs": [
    {
     "data": {
      "text/html": [
       "0.65886905469991"
      ],
      "text/latex": [
       "0.65886905469991"
      ],
      "text/markdown": [
       "0.65886905469991"
      ],
      "text/plain": [
       "[1] 0.6588691"
      ]
     },
     "metadata": {},
     "output_type": "display_data"
    },
    {
     "data": {
      "text/html": [
       "142907"
      ],
      "text/latex": [
       "142907"
      ],
      "text/markdown": [
       "142907"
      ],
      "text/plain": [
       "[1] 142907"
      ]
     },
     "metadata": {},
     "output_type": "display_data"
    },
    {
     "data": {
      "text/plain": [
       "   Min. 1st Qu.  Median    Mean 3rd Qu.    Max. \n",
       "     47    7943   16456   12593   16544  113508 "
      ]
     },
     "metadata": {},
     "output_type": "display_data"
    },
    {
     "data": {
      "text/html": [
       "16541"
      ],
      "text/latex": [
       "16541"
      ],
      "text/markdown": [
       "16541"
      ],
      "text/plain": [
       "[1] 16541"
      ]
     },
     "metadata": {},
     "output_type": "display_data"
    },
    {
     "data": {
      "image/png": "[encoded data removed]",
      "text/plain": [
       "Plot with title \"Histogram of qwidth(all[which(qwidth(all) < 20000)])\""
      ]
     },
     "metadata": {
      "image/png": {
       "height": 420,
       "width": 420
      }
     },
     "output_type": "display_data"
    }
   ],
   "source": [
    "#descriptive stats of chrM_rot alignments\n",
    "length(which(qwidth(all)>15000))/length(all)\n",
    "\n",
    "length(all)\n",
    "\n",
    "hist(qwidth(all[which(qwidth(all)<20000)]),breaks=30)\n",
    "\n",
    "getmode <- function(v) {\n",
    "   uniqv <- unique(v)\n",
    "   uniqv[which.max(tabulate(match(v, uniqv)))]\n",
    "}\n",
    "\n",
    "summary(qwidth(all))\n",
    "getmode(qwidth(all))"
   ]
  },
  {
   "cell_type": "code",
   "execution_count": 6,
   "metadata": {},
   "outputs": [
    {
     "data": {
      "text/plain": [
       "   Min. 1st Qu.  Median    Mean 3rd Qu.    Max. \n",
       "     47    7943   16456   12593   16544  113508 "
      ]
     },
     "metadata": {},
     "output_type": "display_data"
    },
    {
     "data": {
      "text/html": [
       "16541"
      ],
      "text/latex": [
       "16541"
      ],
      "text/markdown": [
       "16541"
      ],
      "text/plain": [
       "[1] 16541"
      ]
     },
     "metadata": {},
     "output_type": "display_data"
    }
   ],
   "source": [
    "summary(qwidth(all))\n",
    "getmode(qwidth(all))"
   ]
  },
  {
   "cell_type": "code",
   "execution_count": 7,
   "metadata": {},
   "outputs": [
    {
     "data": {
      "text/html": [
       "0.106565808532822"
      ],
      "text/latex": [
       "0.106565808532822"
      ],
      "text/markdown": [
       "0.106565808532822"
      ],
      "text/plain": [
       "[1] 0.1065658"
      ]
     },
     "metadata": {},
     "output_type": "display_data"
    },
    {
     "data": {
      "text/html": [
       "0.835445531551645"
      ],
      "text/latex": [
       "0.835445531551645"
      ],
      "text/markdown": [
       "0.835445531551645"
      ],
      "text/plain": [
       "[1] 0.8354455"
      ]
     },
     "metadata": {},
     "output_type": "display_data"
    }
   ],
   "source": [
    "#look at reads near 1500 bp, how many start at bp 66?\n",
    "length(which(qwidth(all)>1450 & qwidth(all)<1550))/length(all)\n",
    "sub=all[which(qwidth(all)>1450 & qwidth(all)<1550)]\n",
    "length(which(start(sub)>15077 & start(sub)<15097))/length(sub) \n"
   ]
  },
  {
   "cell_type": "code",
   "execution_count": 13,
   "metadata": {},
   "outputs": [
    {
     "data": {
      "text/html": [
       "<strong>pdf:</strong> 2"
      ],
      "text/latex": [
       "\\textbf{pdf:} 2"
      ],
      "text/markdown": [
       "**pdf:** 2"
      ],
      "text/plain": [
       "pdf \n",
       "  2 "
      ]
     },
     "metadata": {},
     "output_type": "display_data"
    }
   ],
   "source": [
    "#plot histogram of ChrM sizes\n",
    "pdf(\"GM12878/ChrM lengths.pdf\")\n",
    "hist(qwidth(all),breaks=150,xlim=c(0,20000),col=\"blue\",xlab=\"Read Lengths\",main=\"mtDNA read lengths\")\n",
    "abline(v=16569,lty=2)\n",
    "dev.off()"
   ]
  },
  {
   "cell_type": "code",
   "execution_count": 11,
   "metadata": {},
   "outputs": [],
   "source": [
    "#Load forward and reverse bams, make to density format for coverage plots\n",
    "fr<- readGAlignments(\"forward_rot.bam\")\n",
    "rr<- readGAlignments(\"rev_rot.bam\")\n",
    "\n",
    "frcov<-coverage(fr)\n",
    "frnum<- as.numeric(frcov$chrM)\n",
    "\n",
    "rrcov<-coverage(rr)\n",
    "rrnum<- as.numeric(rrcov$chrM)\n"
   ]
  },
  {
   "cell_type": "code",
   "execution_count": 13,
   "metadata": {},
   "outputs": [],
   "source": [
    "#Covert annotation file to rotated genome\n",
    "\n",
    "locs$col=as.numeric(as.factor(locs$Type))+1\n",
    "\n",
    "temp=locs[which(locs$Start<1547 & locs$End>1547),]\n",
    "temp[2,]=temp[1,]\n",
    "temp[1,\"End\"]=1547\n",
    "temp[2,\"Start\"]=1548\n",
    "locs2=rbind(locs[-which(locs$Start<1547 & locs$End>1547),],temp)\n",
    "locs2$Start[which(locs2$Start<1548)]=locs2$Start[which(locs2$Start<1548)]+16569\n",
    "locs2$End[which(locs2$End<1548)]=locs2$End[which(locs2$End<1548)]+16569\n",
    "\n",
    "locs2$Start[which(locs2$Start>1547)]=locs2$Start[which(locs2$Start>1547)]-1547\n",
    "locs2$End[which(locs2$End>1547)]=locs2$End[which(locs2$End>1547)]-1547\n",
    "\n",
    "locs2$center=(locs2$Start+locs2$End)/2"
   ]
  },
  {
   "cell_type": "code",
   "execution_count": 15,
   "metadata": {},
   "outputs": [],
   "source": [
    "#make snp density annotation from mitomap annotation\n",
    "snps=read.csv(\"marker_finder.csv\")\n",
    "\n",
    "snps2=snps\n",
    "snps2$Position[which(snps2$Position%in%c(1:1547))]=snps2$Position[which(snps2$Position%in%c(1:1547))]+16569\n",
    "snps2$Position=snps2$Position-1547\n",
    "colnames(snps2)[6]=\"Freq\"\n",
    "snps2$Freq=as.numeric(gsub(\"%\",\"\",snps2$Freq))\n"
   ]
  },
  {
   "cell_type": "code",
   "execution_count": 25,
   "metadata": {},
   "outputs": [
    {
     "data": {
      "text/html": [
       "<strong>pdf:</strong> 2"
      ],
      "text/latex": [
       "\\textbf{pdf:} 2"
      ],
      "text/markdown": [
       "**pdf:** 2"
      ],
      "text/plain": [
       "pdf \n",
       "  2 "
      ]
     },
     "metadata": {},
     "output_type": "display_data"
    }
   ],
   "source": [
    "#plot density, snps and annotation on rotated coordinates \n",
    "pdf(\"Coverage_test_rot.pdf\",width=14,height=4)\n",
    "par(cex=0.8, mai=c(0.05,0.05,0.1,0.1))\n",
    "par(fig=c(0.1,0.9,0.5,0.9))\n",
    "plot(frnum, type=\"l\", col=\"blue\", lwd=4, xlab=\"\",xaxt=\"n\",ylab=\"Sequencing Depth\")\n",
    "lines(rrnum, col=\"red\", lwd=4)\n",
    "legend(15500, 85000, legend=c(\"Foward\", \"Reverse\"),\n",
    "       col=c(\"blue\", \"red\"), lty=1,lwd=2, cex=1, box.lty=0)\n",
    "\n",
    "par(fig=c(0.1,0.9,0.35,0.51),new=TRUE)\n",
    "\n",
    "plot(c(0,length(rrcov$chrM)),c(0,100),type=\"n\",ylab=\"\",xlab=\"Location on ChrM\",yaxt=\"n\",xaxt=\"n\")\n",
    "lines(snps2$Freq~snps2$Position, col=\"black\")\n",
    "\n",
    "par(fig=c(0.1,0.9,0.2,0.35), new=TRUE)\n",
    "plot(c(0,length(rrcov$chrM)),c(0,50),type=\"n\",ylab=\"\",xlab=\"Location on ChrM\",yaxt=\"n\",xaxt=\"n\")\n",
    "axis(1, at = c(0,3453,8453,13453,15022), labels = c(\"cut site\",5000,10000,15000,0))\n",
    "\n",
    "for (i in 1:(nrow(locs2))){\n",
    "rect(locs2$Start[i],0,locs2$End[i],50,col=locs2$col[i])\n",
    "}\n",
    "\n",
    "\n",
    "dev.off()"
   ]
  },
  {
   "cell_type": "code",
   "execution_count": 26,
   "metadata": {},
   "outputs": [
    {
     "name": "stderr",
     "output_type": "stream",
     "text": [
      "\n",
      "Attaching package: 'data.table'\n",
      "\n",
      "\n",
      "The following objects are masked from 'package:GenomicAlignments':\n",
      "\n",
      "    first, last, second\n",
      "\n",
      "\n",
      "The following object is masked from 'package:SummarizedExperiment':\n",
      "\n",
      "    shift\n",
      "\n",
      "\n",
      "The following object is masked from 'package:GenomicRanges':\n",
      "\n",
      "    shift\n",
      "\n",
      "\n",
      "The following object is masked from 'package:IRanges':\n",
      "\n",
      "    shift\n",
      "\n",
      "\n",
      "The following objects are masked from 'package:S4Vectors':\n",
      "\n",
      "    first, second\n",
      "\n",
      "\n"
     ]
    }
   ],
   "source": [
    "library(data.table)\n",
    "\n"
   ]
  },
  {
   "cell_type": "code",
   "execution_count": 27,
   "metadata": {},
   "outputs": [],
   "source": [
    "#load GIAB variant file to plot SNPs\n",
    "\n",
    "vcf=fread(\"fb/HG001_ChrM_rot.calls.filt.vcf\")\n",
    "\n",
    "#calculate percantage of variant\n",
    "vcf$RO=as.numeric(unlist(tstrsplit(vcf$unknown,\":\")[4]))\n",
    "vcf$AO=as.numeric(unlist(tstrsplit(vcf$unknown,\":\")[6]))\n",
    "vcf$perA=round(vcf$AO/(vcf$AO+vcf$RO),2)\n",
    "\n",
    "illum<- readGAlignments(\"illumina/HG001_ChrM_rot.bam\")\n",
    "\n",
    "covill=coverage(illum)\n",
    "\n",
    "cinum=as.numeric(covill$chrM)\n",
    "x=seq(1:length(cinum))"
   ]
  },
  {
   "cell_type": "code",
   "execution_count": 35,
   "metadata": {},
   "outputs": [],
   "source": [
    "#load nanopore variant file to plot SNPs\n",
    "vcf1=fread(\"bcftools/190115_cas9enrich_chrM_rot.bcfcall.vcf\")\n",
    "\n",
    "colnames(vcf1)[10]=\"freq\"\n",
    "AD=unlist(tstrsplit(vcf1$freq,\":\")[5])\n",
    "ref=as.numeric(unlist(tstrsplit(AD,\",\")[1]))\n",
    "alt=as.numeric(unlist(tstrsplit(AD,\",\")[2]))\n",
    "vcf1$perA=alt/(ref+alt)\n",
    "\n",
    "nano<- readGAlignments(\"GM12878/190115_cas9enrich_mito1_multif5.gup5.rotM.bam\")\n",
    "\n",
    "covnan=coverage(nano)\n",
    "\n",
    "cnnum=as.numeric(covnan$chrM)\n",
    "x1=seq(1:length(cnnum))"
   ]
  },
  {
   "cell_type": "code",
   "execution_count": 46,
   "metadata": {},
   "outputs": [
    {
     "data": {
      "text/html": [
       "<strong>pdf:</strong> 2"
      ],
      "text/latex": [
       "\\textbf{pdf:} 2"
      ],
      "text/markdown": [
       "**pdf:** 2"
      ],
      "text/plain": [
       "pdf \n",
       "  2 "
      ]
     },
     "metadata": {},
     "output_type": "display_data"
    }
   ],
   "source": [
    "#plot both snp files together\n",
    "pdf(\"GM12878/Nano_Illum_snps.pdf\",width=14, height=4)\n",
    "par(cex=0.8, mai=c(0.05,0.05,0.1,0.1))\n",
    "par(fig=c(0.1,0.9,0.5,0.85))\n",
    "\n",
    "plot(cinum, type=\"l\", col=\"grey90\", lwd=4, xlab=\"Location on ChrM\",ylab=\"Sequencing Depth\",ylim=c(0,max(cinum)),xaxt=\"n\")\n",
    "\n",
    "polygon(c(x, 16569, 0), c(cinum, 0, 0), col=\"grey90\",border=NA)\n",
    "text(2, 100000, \"Illumina\",pos = 2, srt = 90)\n",
    "for (i in 1:(nrow(vcf))){\n",
    "    if(vcf$perA[i]>0.9){\n",
    "        if(vcf$ALT[i]==\"C\"){\n",
    "        rect(vcf$POS[i],0,vcf$POS[i],cinum[vcf$POS[i]],border=\"blue\")\n",
    "        }\n",
    "        else if(vcf$ALT[i]==\"T\"){\n",
    "        rect(vcf$POS[i],0,vcf$POS[i],cinum[vcf$POS[i]],border=\"red\")\n",
    "        }\n",
    "        else if(vcf$ALT[i]==\"G\"){\n",
    "        rect(vcf$POS[i],0,vcf$POS[i],cinum[vcf$POS[i]],border=\"tan2\")\n",
    "        }\n",
    "        else if(vcf$ALT[i]==\"A\"){\n",
    "        rect(vcf$POS[i],0,vcf$POS[i],cinum[vcf$POS[i]],border=\"darkgreen\")\n",
    "        }\n",
    "    }        \n",
    "    else{\n",
    "        rect(vcf$POS[i],0,vcf$POS[i],cinum[vcf$POS[i]]*vcf$perA[i],border=\"darkgreen\")\n",
    "        rect(vcf$POS[i],(cinum[vcf$POS[i]]*vcf$perA[i]),vcf$POS[i],cinum[vcf$POS[i]],border=\"tan2\")\n",
    "    }\n",
    "    }\n",
    "    \n",
    "par(fig=c(0.1,0.9,0.1,0.45),new=TRUE)\n",
    "plot(cnnum, type=\"l\", col=\"grey90\", lwd=4, xlab=\"Location on ChrM\",ylab=\"Sequencing Depth\",ylim=c(0,max(cnnum)),xaxt=\"n\")\n",
    "axis(1, at = c(0,3453,8453,13453,15022), labels = c(\"cut site\",5000,10000,15000,0))\n",
    "polygon(c(x1, 16569, 0), c(cnnum, 0, 0), col=\"grey90\",border=NA)\n",
    "text(2, 80000, \"Nanopore\",pos = 2, srt = 90)\n",
    "for (i in 1:(nrow(vcf1))){\n",
    "    if(vcf1$perA[i]>0.9){\n",
    "        if(vcf1$ALT[i]==\"C\"){\n",
    "        rect(vcf1$POS[i],0,vcf1$POS[i],cnnum[vcf1$POS[i]],border=\"blue\")\n",
    "        }\n",
    "        else if(vcf1$ALT[i]==\"T\"){\n",
    "        rect(vcf1$POS[i],0,vcf1$POS[i],cnnum[vcf1$POS[i]],border=\"red\")\n",
    "        }\n",
    "        else if(vcf1$ALT[i]==\"G\"){\n",
    "        rect(vcf1$POS[i],0,vcf1$POS[i],cnnum[vcf1$POS[i]],border=\"tan2\")\n",
    "        }\n",
    "        else if(vcf1$ALT[i]==\"A\"){\n",
    "        rect(vcf1$POS[i],0,vcf1$POS[i],cnnum[vcf1$POS[i]],border=\"darkgreen\")\n",
    "        }\n",
    "    }        \n",
    "    else{\n",
    "        rect(vcf1$POS[i],0,vcf1$POS[i],cnnum[vcf1$POS[i]]*vcf1$perA[i],border=\"darkgreen\")\n",
    "        rect(vcf1$POS[i],(cnnum[vcf1$POS[i]]*vcf1$perA[i]),vcf1$POS[i],cnnum[vcf1$POS[i]],border=\"tan2\")\n",
    "    }\n",
    "    }\n",
    "    \n",
    "    dev.off()"
   ]
  },
  {
   "cell_type": "code",
   "execution_count": 34,
   "metadata": {},
   "outputs": [
    {
     "ename": "ERROR",
     "evalue": "Error in if (vcf1$perA[i] > 0.9) {: missing value where TRUE/FALSE needed\n",
     "output_type": "error",
     "traceback": [
      "Error in if (vcf1$perA[i] > 0.9) {: missing value where TRUE/FALSE needed\nTraceback:\n"
     ]
    },
    {
     "data": {
      "image/png": "[encoded data removed]",
      "text/plain": [
       "plot without title"
      ]
     },
     "metadata": {
      "image/png": {
       "height": 420,
       "width": 420
      }
     },
     "output_type": "display_data"
    }
   ],
   "source": [
    "#pdf(\"Super_fig_1.pdf\",width=12,height=5)\n",
    "\n",
    "par(cex=0.8, mai=c(0.05,0.05,0.1,0.1))\n",
    "\n",
    "#Coverage plot\n",
    "par(fig=c(0.1,0.9,0.6,0.9))\n",
    "plot(frnum, type=\"l\", col=\"blue\", lwd=4, xlab=\"\",xaxt=\"n\",ylab=\"Sequencing Depth\")\n",
    "lines(rrnum, col=\"red\", lwd=4)\n",
    "legend(15300, 85000, legend=c(\"Foward\", \"Reverse\"),\n",
    "       col=c(\"blue\", \"red\"), lty=1,lwd=2, cex=1, box.lty=0)\n",
    "\n",
    "#Snp density plot\n",
    "par(fig=c(0.1,0.9,0.5,0.61),new=TRUE)\n",
    "plot(c(0,length(rrcov$chrM)),c(0,100),type=\"n\",ylab=\"\",xlab=\"Location on ChrM\",yaxt=\"n\",xaxt=\"n\")\n",
    "lines(snps2$Freq~snps2$Position, col=\"black\")\n",
    "\n",
    "#bottom mito layout plot\n",
    "par(fig=c(0.1,0.9,0.1,0.21), new=TRUE)\n",
    "plot(c(0,length(rrcov$chrM)),c(0,50),type=\"n\",ylab=\"\",xlab=\"Location on ChrM\",yaxt=\"n\",xaxt=\"n\")\n",
    "axis(1, at = c(0,3453,8453,13453,15022), labels = c(\"cut site\",5000,10000,15000,0))\n",
    "for (i in 1:(nrow(locs2))){\n",
    "rect(locs2$Start[i],0,locs2$End[i],50,col=locs2$col[i])\n",
    "}\n",
    "\n",
    "#snps in illumina\n",
    "par(fig=c(0.1,0.9,0.35,0.51),new=TRUE)\n",
    "plot(cinum, type=\"l\", col=\"grey90\", lwd=4, xlab=\"\",ylab=\"Sequencing Depth\",ylim=c(0,max(cinum)),xaxt=\"n\")\n",
    "polygon(c(x, 16569, 0), c(cinum, 0, 0), col=\"grey90\",border=NA)\n",
    "for (i in 1:(nrow(vcf))){\n",
    "    if(vcf$perA[i]>0.9){\n",
    "        if(vcf$ALT[i]==\"C\"){\n",
    "        rect(vcf$POS[i],0,vcf$POS[i],cinum[vcf$POS[i]],border=\"blue\")\n",
    "        }\n",
    "        else if(vcf$ALT[i]==\"T\"){\n",
    "        rect(vcf$POS[i],0,vcf$POS[i],cinum[vcf$POS[i]],border=\"red\")\n",
    "        }\n",
    "        else if(vcf$ALT[i]==\"G\"){\n",
    "        rect(vcf$POS[i],0,vcf$POS[i],cinum[vcf$POS[i]],border=\"tan2\")\n",
    "        }\n",
    "        else if(vcf$ALT[i]==\"A\"){\n",
    "        rect(vcf$POS[i],0,vcf$POS[i],cinum[vcf$POS[i]],border=\"darkgreen\")\n",
    "        }\n",
    "    }        \n",
    "    else{\n",
    "        rect(vcf$POS[i],0,vcf$POS[i],cinum[vcf$POS[i]]*vcf$perA[i],border=\"darkgreen\")\n",
    "        rect(vcf$POS[i],(cinum[vcf$POS[i]]*vcf$perA[i]),vcf$POS[i],cinum[vcf$POS[i]],border=\"tan2\")\n",
    "    }\n",
    "    }\n",
    "\n",
    "#snps in nanopore\n",
    "par(fig=c(0.1,0.9,0.2,0.36),new=TRUE)\n",
    "plot(cnnum, type=\"l\", col=\"grey90\", lwd=4, xlab=\"\",ylab=\"Sequencing Depth\",ylim=c(0,max(cnnum)),xaxt=\"n\")\n",
    "polygon(c(x1, 16569, 0), c(cnnum, 0, 0), col=\"grey90\",border=NA)\n",
    "for (i in 1:(nrow(vcf1))){\n",
    "    if(vcf1$perA[i]>0.9){\n",
    "        if(vcf1$ALT[i]==\"C\"){\n",
    "        rect(vcf1$POS[i],0,vcf1$POS[i],cnnum[vcf1$POS[i]],border=\"blue\")\n",
    "        }\n",
    "        else if(vcf1$ALT[i]==\"T\"){\n",
    "        rect(vcf1$POS[i],0,vcf1$POS[i],cnnum[vcf1$POS[i]],border=\"red\")\n",
    "        }\n",
    "        else if(vcf1$ALT[i]==\"G\"){\n",
    "        rect(vcf1$POS[i],0,vcf1$POS[i],cnnum[vcf1$POS[i]],border=\"tan2\")\n",
    "        }\n",
    "        else if(vcf1$ALT[i]==\"A\"){\n",
    "        rect(vcf1$POS[i],0,vcf1$POS[i],cnnum[vcf1$POS[i]],border=\"darkgreen\")\n",
    "        }\n",
    "    }        \n",
    "    else{\n",
    "        rect(vcf1$POS[i],0,vcf1$POS[i],cnnum[vcf1$POS[i]]*vcf1$perA[i],border=\"darkgreen\")\n",
    "        rect(vcf1$POS[i],(cnnum[vcf1$POS[i]]*vcf1$perA[i]),vcf1$POS[i],cnnum[vcf1$POS[i]],border=\"tan2\")\n",
    "    }\n",
    "    }\n",
    "\n",
    "#dev.off()"
   ]
  },
  {
   "cell_type": "code",
   "execution_count": null,
   "metadata": {},
   "outputs": [],
   "source": []
  }
 ],
 "metadata": {
  "kernelspec": {
   "display_name": "R",
   "language": "R",
   "name": "ir"
  },
  "language_info": {
   "codemirror_mode": "r",
   "file_extension": ".r",
   "mimetype": "text/x-r-source",
   "name": "R",
   "pygments_lexer": "r",
   "version": "4.0.2"
  }
 },
 "nbformat": 4,
 "nbformat_minor": 4
}
